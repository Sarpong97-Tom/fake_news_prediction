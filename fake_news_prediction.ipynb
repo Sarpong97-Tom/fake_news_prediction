{
 "cells": [
  {
   "cell_type": "markdown",
   "id": "5a295fbf",
   "metadata": {},
   "source": [
    "# Fake news Prediction using NLP approach\n",
    "## Tensorflow is used to train model"
   ]
  },
  {
   "cell_type": "code",
   "execution_count": 1,
   "id": "05450fb0",
   "metadata": {},
   "outputs": [],
   "source": [
    "import numpy as np\n",
    "import sklearn\n",
    "import tensorflow as tf\n",
    "import pandas as pd"
   ]
  },
  {
   "cell_type": "code",
   "execution_count": 2,
   "id": "c0702ce0",
   "metadata": {},
   "outputs": [],
   "source": [
    "DATA_PATH = \"data/news.csv\""
   ]
  },
  {
   "cell_type": "code",
   "execution_count": 3,
   "id": "4008d47e",
   "metadata": {},
   "outputs": [
    {
     "data": {
      "text/html": [
       "<div>\n",
       "<style scoped>\n",
       "    .dataframe tbody tr th:only-of-type {\n",
       "        vertical-align: middle;\n",
       "    }\n",
       "\n",
       "    .dataframe tbody tr th {\n",
       "        vertical-align: top;\n",
       "    }\n",
       "\n",
       "    .dataframe thead th {\n",
       "        text-align: right;\n",
       "    }\n",
       "</style>\n",
       "<table border=\"1\" class=\"dataframe\">\n",
       "  <thead>\n",
       "    <tr style=\"text-align: right;\">\n",
       "      <th></th>\n",
       "      <th>Unnamed: 0</th>\n",
       "      <th>title</th>\n",
       "      <th>text</th>\n",
       "      <th>label</th>\n",
       "    </tr>\n",
       "  </thead>\n",
       "  <tbody>\n",
       "    <tr>\n",
       "      <th>0</th>\n",
       "      <td>8476</td>\n",
       "      <td>You Can Smell Hillary’s Fear</td>\n",
       "      <td>Daniel Greenfield, a Shillman Journalism Fello...</td>\n",
       "      <td>FAKE</td>\n",
       "    </tr>\n",
       "    <tr>\n",
       "      <th>1</th>\n",
       "      <td>10294</td>\n",
       "      <td>Watch The Exact Moment Paul Ryan Committed Pol...</td>\n",
       "      <td>Google Pinterest Digg Linkedin Reddit Stumbleu...</td>\n",
       "      <td>FAKE</td>\n",
       "    </tr>\n",
       "    <tr>\n",
       "      <th>2</th>\n",
       "      <td>3608</td>\n",
       "      <td>Kerry to go to Paris in gesture of sympathy</td>\n",
       "      <td>U.S. Secretary of State John F. Kerry said Mon...</td>\n",
       "      <td>REAL</td>\n",
       "    </tr>\n",
       "    <tr>\n",
       "      <th>3</th>\n",
       "      <td>10142</td>\n",
       "      <td>Bernie supporters on Twitter erupt in anger ag...</td>\n",
       "      <td>— Kaydee King (@KaydeeKing) November 9, 2016 T...</td>\n",
       "      <td>FAKE</td>\n",
       "    </tr>\n",
       "    <tr>\n",
       "      <th>4</th>\n",
       "      <td>875</td>\n",
       "      <td>The Battle of New York: Why This Primary Matters</td>\n",
       "      <td>It's primary day in New York and front-runners...</td>\n",
       "      <td>REAL</td>\n",
       "    </tr>\n",
       "  </tbody>\n",
       "</table>\n",
       "</div>"
      ],
      "text/plain": [
       "   Unnamed: 0                                              title  \\\n",
       "0        8476                       You Can Smell Hillary’s Fear   \n",
       "1       10294  Watch The Exact Moment Paul Ryan Committed Pol...   \n",
       "2        3608        Kerry to go to Paris in gesture of sympathy   \n",
       "3       10142  Bernie supporters on Twitter erupt in anger ag...   \n",
       "4         875   The Battle of New York: Why This Primary Matters   \n",
       "\n",
       "                                                text label  \n",
       "0  Daniel Greenfield, a Shillman Journalism Fello...  FAKE  \n",
       "1  Google Pinterest Digg Linkedin Reddit Stumbleu...  FAKE  \n",
       "2  U.S. Secretary of State John F. Kerry said Mon...  REAL  \n",
       "3  — Kaydee King (@KaydeeKing) November 9, 2016 T...  FAKE  \n",
       "4  It's primary day in New York and front-runners...  REAL  "
      ]
     },
     "execution_count": 3,
     "metadata": {},
     "output_type": "execute_result"
    }
   ],
   "source": [
    "df = pd.read_csv(DATA_PATH)\n",
    "df.head(5)"
   ]
  },
  {
   "cell_type": "code",
   "execution_count": 4,
   "id": "44b53c9d",
   "metadata": {},
   "outputs": [
    {
     "data": {
      "text/plain": [
       "(6335, 4)"
      ]
     },
     "execution_count": 4,
     "metadata": {},
     "output_type": "execute_result"
    }
   ],
   "source": [
    "df.shape"
   ]
  },
  {
   "cell_type": "code",
   "execution_count": 5,
   "id": "d52edb30",
   "metadata": {},
   "outputs": [],
   "source": [
    "labels = df['label']"
   ]
  },
  {
   "cell_type": "code",
   "execution_count": 6,
   "id": "4ddfaa38",
   "metadata": {},
   "outputs": [
    {
     "data": {
      "text/plain": [
       "(6335,)"
      ]
     },
     "execution_count": 6,
     "metadata": {},
     "output_type": "execute_result"
    }
   ],
   "source": [
    "labels.shape"
   ]
  },
  {
   "cell_type": "code",
   "execution_count": 71,
   "id": "b0b1794d",
   "metadata": {},
   "outputs": [
    {
     "data": {
      "text/plain": [
       "(6335, 2)"
      ]
     },
     "execution_count": 71,
     "metadata": {},
     "output_type": "execute_result"
    }
   ],
   "source": [
    "data = df.drop('label',axis = 1).drop('Unnamed: 0',axis = 1)\n",
    "data.shape"
   ]
  },
  {
   "cell_type": "code",
   "execution_count": 43,
   "id": "350f222c",
   "metadata": {},
   "outputs": [
    {
     "data": {
      "text/plain": [
       "'You Can Smell Hillary’s Fear'"
      ]
     },
     "execution_count": 43,
     "metadata": {},
     "output_type": "execute_result"
    }
   ],
   "source": [
    "\n",
    "all_sentences  = list()\n",
    "for column in data.values:\n",
    "    for sentence in column:\n",
    "        all_sentences.append(sentence)\n",
    "all_sentences[0]"
   ]
  },
  {
   "cell_type": "code",
   "execution_count": 21,
   "id": "9d1f3da9",
   "metadata": {},
   "outputs": [],
   "source": [
    "from sklearn import preprocessing\n",
    "def label_encode_binary(labels):\n",
    "    binirizer = preprocessing.MultiLabelBinarizer()\n",
    "    return (binirizer.fit_transform(labels),binirizer.classes_)"
   ]
  },
  {
   "cell_type": "code",
   "execution_count": 23,
   "id": "6f753315",
   "metadata": {},
   "outputs": [],
   "source": [
    "words  = [word.split(',') for word in labels]\n",
    "encoded_label,classes = label_encode_binary(words)"
   ]
  },
  {
   "cell_type": "code",
   "execution_count": 24,
   "id": "386d6a62",
   "metadata": {},
   "outputs": [
    {
     "data": {
      "text/plain": [
       "array([[1, 0],\n",
       "       [1, 0],\n",
       "       [0, 1],\n",
       "       ...,\n",
       "       [1, 0],\n",
       "       [0, 1],\n",
       "       [0, 1]])"
      ]
     },
     "execution_count": 24,
     "metadata": {},
     "output_type": "execute_result"
    }
   ],
   "source": [
    "\n",
    "encoded_label"
   ]
  },
  {
   "cell_type": "code",
   "execution_count": 44,
   "id": "c878c595",
   "metadata": {},
   "outputs": [
    {
     "data": {
      "text/plain": [
       "array(['FAKE', 'REAL'], dtype=object)"
      ]
     },
     "execution_count": 44,
     "metadata": {},
     "output_type": "execute_result"
    }
   ],
   "source": [
    "classes"
   ]
  },
  {
   "cell_type": "code",
   "execution_count": null,
   "id": "3a96f356",
   "metadata": {},
   "outputs": [],
   "source": [
    "class TextProcessor(object):\n",
    "    def __init__(self,vocab_size):\n",
    "        self._vocab_size = vocab_size\n",
    "        self._tokenizer = None\n",
    "    def create_tokenizer(self,text_list):\n",
    "        tokenizer =  tf.keras.preprocessing.text.Tokenizer(num_words = self._vocab_size)\n",
    "        tokenizer.fit_on_texts(text_list)\n",
    "        self._tokenizer = tokenizer\n",
    "        \n",
    "    def transform(self,text_list):\n",
    "        tokinizer_matrix = self._tokenizer.texts_to_matrix(text_list)\n",
    "        return tokinizer_matrix"
   ]
  },
  {
   "cell_type": "code",
   "execution_count": 61,
   "id": "91f65a9c",
   "metadata": {},
   "outputs": [],
   "source": [
    "poccessor = TextProcessor(200)\n",
    "\n",
    "poccessor.create_tokenizer(all_sentences)\n",
    "title = np.array(poccessor.transform(data['title'].values))\n",
    "body = np.array(poccessor.transform(data['text'].values))"
   ]
  },
  {
   "cell_type": "code",
   "execution_count": 62,
   "id": "bb6d0ca0",
   "metadata": {},
   "outputs": [
    {
     "data": {
      "text/plain": [
       "array([[0., 0., 0., ..., 0., 0., 0.],\n",
       "       [0., 1., 0., ..., 0., 0., 0.],\n",
       "       [0., 0., 1., ..., 0., 0., 0.],\n",
       "       ...,\n",
       "       [0., 1., 0., ..., 0., 0., 0.],\n",
       "       [0., 0., 0., ..., 0., 1., 0.],\n",
       "       [0., 0., 0., ..., 0., 0., 0.]])"
      ]
     },
     "execution_count": 62,
     "metadata": {},
     "output_type": "execute_result"
    }
   ],
   "source": [
    "title"
   ]
  },
  {
   "cell_type": "code",
   "execution_count": 74,
   "id": "9bccdcf0",
   "metadata": {},
   "outputs": [
    {
     "data": {
      "text/plain": [
       "(6335, 400)"
      ]
     },
     "execution_count": 74,
     "metadata": {},
     "output_type": "execute_result"
    }
   ],
   "source": [
    "data = np.concatenate((title,body), axis=1)\n",
    "data.shape"
   ]
  },
  {
   "cell_type": "code",
   "execution_count": 73,
   "id": "8e4a2fa6",
   "metadata": {},
   "outputs": [],
   "source": [
    "import pickle\n",
    "with open('./processor_state.pkl','wb') as f:\n",
    "    pickle.dump(poccessor,f)"
   ]
  },
  {
   "cell_type": "code",
   "execution_count": 75,
   "id": "0187e98c",
   "metadata": {},
   "outputs": [],
   "source": [
    "train_size = int(len(df)*.8)\n",
    "train_labels = encoded_label[:train_size]\n",
    "test_labels = encoded_label[train_size:]\n",
    "data_train = data[:train_size]\n",
    "data_test = data[train_size:]"
   ]
  },
  {
   "cell_type": "code",
   "execution_count": 76,
   "id": "bafbbfec",
   "metadata": {},
   "outputs": [
    {
     "data": {
      "text/plain": [
       "(1267, 400)"
      ]
     },
     "execution_count": 76,
     "metadata": {},
     "output_type": "execute_result"
    }
   ],
   "source": [
    "data_test.shape"
   ]
  },
  {
   "cell_type": "code",
   "execution_count": 77,
   "id": "d06af574",
   "metadata": {},
   "outputs": [
    {
     "data": {
      "text/plain": [
       "(5068, 400)"
      ]
     },
     "execution_count": 77,
     "metadata": {},
     "output_type": "execute_result"
    }
   ],
   "source": [
    "data_train.shape"
   ]
  },
  {
   "cell_type": "code",
   "execution_count": 82,
   "id": "70dc3dd6",
   "metadata": {},
   "outputs": [
    {
     "name": "stdout",
     "output_type": "stream",
     "text": [
      "Model: \"sequential_2\"\n",
      "_________________________________________________________________\n",
      "Layer (type)                 Output Shape              Param #   \n",
      "=================================================================\n",
      "dense_6 (Dense)              (None, 128)               51328     \n",
      "_________________________________________________________________\n",
      "dense_7 (Dense)              (None, 64)                8256      \n",
      "_________________________________________________________________\n",
      "dense_8 (Dense)              (None, 2)                 130       \n",
      "=================================================================\n",
      "Total params: 59,714\n",
      "Trainable params: 59,714\n",
      "Non-trainable params: 0\n",
      "_________________________________________________________________\n"
     ]
    }
   ],
   "source": [
    "from keras.models import Sequential\n",
    "from keras.layers import Flatten, Dense\n",
    "model = Sequential()\n",
    "model.add(Dense(128,input_shape = (400,) ,activation='relu'))\n",
    "model.add(Dense(64, activation='relu'))\n",
    "model.add(Dense(len(classes), activation='softmax'))\n",
    "model.compile(optimizer='adam',loss=\"binary_crossentropy\", metrics=['accuracy'])\n",
    "model.summary()"
   ]
  },
  {
   "cell_type": "code",
   "execution_count": 83,
   "id": "09fe58a7",
   "metadata": {},
   "outputs": [
    {
     "name": "stdout",
     "output_type": "stream",
     "text": [
      "Epoch 1/40\n",
      "32/32 [==============================] - 0s 5ms/step - loss: 0.6258 - accuracy: 0.6341 - val_loss: 0.4307 - val_accuracy: 0.8116\n",
      "Epoch 2/40\n",
      "32/32 [==============================] - 0s 2ms/step - loss: 0.3890 - accuracy: 0.8273 - val_loss: 0.3346 - val_accuracy: 0.8560\n",
      "Epoch 3/40\n",
      "32/32 [==============================] - 0s 2ms/step - loss: 0.3076 - accuracy: 0.8695 - val_loss: 0.3102 - val_accuracy: 0.8748\n",
      "Epoch 4/40\n",
      "32/32 [==============================] - 0s 2ms/step - loss: 0.2848 - accuracy: 0.8849 - val_loss: 0.3234 - val_accuracy: 0.8570\n",
      "Epoch 5/40\n",
      "32/32 [==============================] - 0s 2ms/step - loss: 0.2379 - accuracy: 0.9021 - val_loss: 0.3021 - val_accuracy: 0.8826\n",
      "Epoch 6/40\n",
      "32/32 [==============================] - 0s 2ms/step - loss: 0.2173 - accuracy: 0.9174 - val_loss: 0.3108 - val_accuracy: 0.8846\n",
      "Epoch 7/40\n",
      "32/32 [==============================] - 0s 2ms/step - loss: 0.1867 - accuracy: 0.9270 - val_loss: 0.3036 - val_accuracy: 0.8807\n",
      "Epoch 8/40\n",
      "32/32 [==============================] - 0s 5ms/step - loss: 0.1716 - accuracy: 0.9352 - val_loss: 0.3067 - val_accuracy: 0.8738\n",
      "Epoch 9/40\n",
      "32/32 [==============================] - 0s 3ms/step - loss: 0.1379 - accuracy: 0.9536 - val_loss: 0.3261 - val_accuracy: 0.8679\n",
      "Epoch 10/40\n",
      "32/32 [==============================] - 0s 2ms/step - loss: 0.1047 - accuracy: 0.9700 - val_loss: 0.3315 - val_accuracy: 0.8728\n",
      "Epoch 11/40\n",
      "32/32 [==============================] - 0s 3ms/step - loss: 0.0765 - accuracy: 0.9799 - val_loss: 0.3365 - val_accuracy: 0.8767\n",
      "Epoch 12/40\n",
      "32/32 [==============================] - 0s 3ms/step - loss: 0.0696 - accuracy: 0.9844 - val_loss: 0.3697 - val_accuracy: 0.8688\n",
      "Epoch 13/40\n",
      "32/32 [==============================] - 0s 4ms/step - loss: 0.0511 - accuracy: 0.9877 - val_loss: 0.4129 - val_accuracy: 0.8649\n",
      "Epoch 14/40\n",
      "32/32 [==============================] - 0s 3ms/step - loss: 0.0440 - accuracy: 0.9876 - val_loss: 0.3916 - val_accuracy: 0.8748\n",
      "Epoch 15/40\n",
      "32/32 [==============================] - 0s 2ms/step - loss: 0.0281 - accuracy: 0.9954 - val_loss: 0.4037 - val_accuracy: 0.8728\n",
      "Epoch 16/40\n",
      "32/32 [==============================] - 0s 3ms/step - loss: 0.0237 - accuracy: 0.9963 - val_loss: 0.4264 - val_accuracy: 0.8718\n",
      "Epoch 17/40\n",
      "32/32 [==============================] - 0s 2ms/step - loss: 0.0130 - accuracy: 0.9986 - val_loss: 0.4454 - val_accuracy: 0.8777\n",
      "Epoch 18/40\n",
      "32/32 [==============================] - 0s 2ms/step - loss: 0.0100 - accuracy: 0.9995 - val_loss: 0.4736 - val_accuracy: 0.8777\n",
      "Epoch 19/40\n",
      "32/32 [==============================] - 0s 2ms/step - loss: 0.0072 - accuracy: 1.0000 - val_loss: 0.4713 - val_accuracy: 0.8738\n",
      "Epoch 20/40\n",
      "32/32 [==============================] - 0s 2ms/step - loss: 0.0045 - accuracy: 1.0000 - val_loss: 0.4900 - val_accuracy: 0.8738\n",
      "Epoch 21/40\n",
      "32/32 [==============================] - 0s 2ms/step - loss: 0.0036 - accuracy: 1.0000 - val_loss: 0.4985 - val_accuracy: 0.8748\n",
      "Epoch 22/40\n",
      "32/32 [==============================] - 0s 2ms/step - loss: 0.0031 - accuracy: 1.0000 - val_loss: 0.5098 - val_accuracy: 0.8757\n",
      "Epoch 23/40\n",
      "32/32 [==============================] - 0s 2ms/step - loss: 0.0025 - accuracy: 1.0000 - val_loss: 0.5221 - val_accuracy: 0.8757\n",
      "Epoch 24/40\n",
      "32/32 [==============================] - 0s 2ms/step - loss: 0.0022 - accuracy: 1.0000 - val_loss: 0.5298 - val_accuracy: 0.8767\n",
      "Epoch 25/40\n",
      "32/32 [==============================] - 0s 2ms/step - loss: 0.0018 - accuracy: 1.0000 - val_loss: 0.5384 - val_accuracy: 0.8767\n",
      "Epoch 26/40\n",
      "32/32 [==============================] - 0s 2ms/step - loss: 0.0015 - accuracy: 1.0000 - val_loss: 0.5465 - val_accuracy: 0.8738\n",
      "Epoch 27/40\n",
      "32/32 [==============================] - 0s 2ms/step - loss: 0.0014 - accuracy: 1.0000 - val_loss: 0.5523 - val_accuracy: 0.8728\n",
      "Epoch 28/40\n",
      "32/32 [==============================] - 0s 2ms/step - loss: 0.0012 - accuracy: 1.0000 - val_loss: 0.5620 - val_accuracy: 0.8777\n",
      "Epoch 29/40\n",
      "32/32 [==============================] - 0s 3ms/step - loss: 0.0011 - accuracy: 1.0000 - val_loss: 0.5675 - val_accuracy: 0.8718\n",
      "Epoch 30/40\n",
      "32/32 [==============================] - 0s 3ms/step - loss: 9.2549e-04 - accuracy: 1.0000 - val_loss: 0.5744 - val_accuracy: 0.8767\n",
      "Epoch 31/40\n",
      "32/32 [==============================] - 0s 2ms/step - loss: 8.3135e-04 - accuracy: 1.0000 - val_loss: 0.5794 - val_accuracy: 0.8757\n",
      "Epoch 32/40\n",
      "32/32 [==============================] - 0s 2ms/step - loss: 8.0102e-04 - accuracy: 1.0000 - val_loss: 0.5899 - val_accuracy: 0.8777\n",
      "Epoch 33/40\n",
      "32/32 [==============================] - 0s 2ms/step - loss: 7.3983e-04 - accuracy: 1.0000 - val_loss: 0.5925 - val_accuracy: 0.8757\n",
      "Epoch 34/40\n",
      "32/32 [==============================] - 0s 2ms/step - loss: 6.7787e-04 - accuracy: 1.0000 - val_loss: 0.6003 - val_accuracy: 0.8757\n",
      "Epoch 35/40\n",
      "32/32 [==============================] - 0s 2ms/step - loss: 5.7169e-04 - accuracy: 1.0000 - val_loss: 0.6072 - val_accuracy: 0.8757\n",
      "Epoch 36/40\n",
      "32/32 [==============================] - 0s 2ms/step - loss: 4.9906e-04 - accuracy: 1.0000 - val_loss: 0.6124 - val_accuracy: 0.8767\n",
      "Epoch 37/40\n",
      "32/32 [==============================] - 0s 2ms/step - loss: 4.7362e-04 - accuracy: 1.0000 - val_loss: 0.6162 - val_accuracy: 0.8777\n",
      "Epoch 38/40\n",
      "32/32 [==============================] - 0s 2ms/step - loss: 4.4512e-04 - accuracy: 1.0000 - val_loss: 0.6225 - val_accuracy: 0.8757\n",
      "Epoch 39/40\n",
      "32/32 [==============================] - 0s 2ms/step - loss: 4.1105e-04 - accuracy: 1.0000 - val_loss: 0.6276 - val_accuracy: 0.8777\n",
      "Epoch 40/40\n",
      "32/32 [==============================] - 0s 2ms/step - loss: 3.5854e-04 - accuracy: 1.0000 - val_loss: 0.6314 - val_accuracy: 0.8767\n"
     ]
    }
   ],
   "source": [
    "history = model.fit(data_train, train_labels,\n",
    "epochs=40,\n",
    "batch_size=128,\n",
    "validation_split=0.2)"
   ]
  },
  {
   "cell_type": "code",
   "execution_count": 84,
   "id": "8b126ca8",
   "metadata": {},
   "outputs": [
    {
     "data": {
      "image/png": "[encoded data removed]",
      "text/plain": [
       "<Figure size 432x288 with 1 Axes>"
      ]
     },
     "metadata": {
      "needs_background": "light"
     },
     "output_type": "display_data"
    },
    {
     "data": {
      "image/png": "[encoded data removed]",
      "text/plain": [
       "<Figure size 432x288 with 1 Axes>"
      ]
     },
     "metadata": {
      "needs_background": "light"
     },
     "output_type": "display_data"
    }
   ],
   "source": [
    "import matplotlib.pyplot as plt\n",
    "acc = history.history['accuracy']\n",
    "val_acc = history.history['val_accuracy']\n",
    "loss = history.history['loss']\n",
    "val_loss = history.history['val_loss']\n",
    "epochs = range(1, len(acc) + 1)\n",
    "plt.plot(epochs, acc, 'bo', label='Training acc')\n",
    "plt.plot(epochs, val_acc, 'b', label='Validation acc')\n",
    "plt.title('Training and validation accuracy')\n",
    "plt.legend()\n",
    "plt.figure()\n",
    "plt.plot(epochs, loss, 'bo', label='Training loss')\n",
    "plt.plot(epochs, val_loss, 'b', label='Validation loss')\n",
    "plt.title('Training and validation loss')\n",
    "plt.legend()\n",
    "plt.show()"
   ]
  },
  {
   "cell_type": "code",
   "execution_count": 85,
   "id": "c8c7ea77",
   "metadata": {},
   "outputs": [
    {
     "name": "stdout",
     "output_type": "stream",
     "text": [
      "10/10 [==============================] - 0s 2ms/step - loss: 0.6840 - accuracy: 0.8642\n"
     ]
    },
    {
     "data": {
      "text/plain": [
       "[0.6840059757232666, 0.8642462491989136]"
      ]
     },
     "execution_count": 85,
     "metadata": {},
     "output_type": "execute_result"
    }
   ],
   "source": [
    "model.evaluate(data_test,test_labels,batch_size=128)"
   ]
  },
  {
   "cell_type": "code",
   "execution_count": 87,
   "id": "6b19528a",
   "metadata": {},
   "outputs": [
    {
     "name": "stdout",
     "output_type": "stream",
     "text": [
      "export_path = ./model/1\n",
      "\n"
     ]
    }
   ],
   "source": [
    "import os\n",
    "import tempfile\n",
    "\n",
    "MODEL_DIR = './model'\n",
    "version = 1\n",
    "export_path = os.path.join(MODEL_DIR, str(version))\n",
    "print('export_path = {}\\n'.format(export_path))"
   ]
  },
  {
   "cell_type": "code",
   "execution_count": 88,
   "id": "adbc9c52",
   "metadata": {},
   "outputs": [
    {
     "name": "stdout",
     "output_type": "stream",
     "text": [
      "INFO:tensorflow:Assets written to: ./model/1/assets\n"
     ]
    }
   ],
   "source": [
    "tf.keras.models.save_model(\n",
    "    model,\n",
    "    export_path,\n",
    "    overwrite=True,\n",
    "    include_optimizer=True,\n",
    "    save_format=None,\n",
    "    signatures=None,\n",
    "    options=None\n",
    ")"
   ]
  },
  {
   "cell_type": "code",
   "execution_count": 108,
   "id": "950bf0e3",
   "metadata": {},
   "outputs": [],
   "source": [
    "predictions = model.predict(data_test[2:3])"
   ]
  },
  {
   "cell_type": "code",
   "execution_count": 109,
   "id": "eefec7c2",
   "metadata": {},
   "outputs": [
    {
     "name": "stdout",
     "output_type": "stream",
     "text": [
      "[[0.0217019 0.9782981]]\n"
     ]
    }
   ],
   "source": [
    "print(predictions)"
   ]
  },
  {
   "cell_type": "code",
   "execution_count": 110,
   "id": "eaa8bbb2",
   "metadata": {},
   "outputs": [],
   "source": [
    "class DecodePrediction(object):\n",
    "    def __init__(self,label_class):\n",
    "        self._label_class = label_class\n",
    "    \n",
    "    def decode_prediction(self,prediction):\n",
    "        decoded = []\n",
    "        for predicted in prediction:\n",
    "            gratest_index = np.argmax(predicted)\n",
    "            decoded.append(self._label_class[gratest_index]) \n",
    "        return decoded"
   ]
  },
  {
   "cell_type": "code",
   "execution_count": 111,
   "id": "85b8d476",
   "metadata": {},
   "outputs": [],
   "source": [
    "decode_prediction = DecodePrediction(classes)"
   ]
  },
  {
   "cell_type": "code",
   "execution_count": 112,
   "id": "cdd5390e",
   "metadata": {},
   "outputs": [
    {
     "data": {
      "text/plain": [
       "['REAL']"
      ]
     },
     "execution_count": 112,
     "metadata": {},
     "output_type": "execute_result"
    }
   ],
   "source": [
    "decode_prediction.decode_prediction(predictions)"
   ]
  },
  {
   "cell_type": "code",
   "execution_count": 118,
   "id": "a2413b54",
   "metadata": {},
   "outputs": [],
   "source": [
    "import pickle\n",
    "with open('./decoder_state.pkl','wb') as f:\n",
    "    pickle.dump(decode_prediction,f)\n",
    "    \n",
    "import pickle\n",
    "with open('./classes.pkl','wb') as f:\n",
    "    pickle.dump(decode_prediction,f)"
   ]
  },
  {
   "cell_type": "code",
   "execution_count": 114,
   "id": "5fd9b2c0",
   "metadata": {},
   "outputs": [
    {
     "name": "stderr",
     "output_type": "stream",
     "text": [
      "keras is no longer supported, please use tf.keras instead.\n",
      "Your TensorFlow version is newer than 2.4.0 and so graph support has been removed in eager mode. See PR #1483 for discussion.\n",
      "`tf.keras.backend.set_learning_phase` is deprecated and will be removed after 2020-10-11. To update it, simply pass a True/False value to the `training` argument of the `__call__` method of your layer or model.\n"
     ]
    }
   ],
   "source": [
    "import shap\n",
    "\n",
    "explainer = shap.DeepExplainer(model,data_train[:200])\n",
    "sharp_vals = explainer.shap_values(data_test[:25])"
   ]
  },
  {
   "cell_type": "code",
   "execution_count": 115,
   "id": "010b453d",
   "metadata": {},
   "outputs": [],
   "source": [
    "words  = poccessor._tokenizer.word_index\n",
    "\n",
    "word_lookup = [i for i in words.keys() ]\n",
    "word_lookup = [\"\"] + word_lookup\n"
   ]
  },
  {
   "cell_type": "code",
   "execution_count": 117,
   "id": "a7416271",
   "metadata": {},
   "outputs": [
    {
     "data": {
      "image/png": "[encoded data removed]",
      "text/plain": [
       "<Figure size 576x684 with 1 Axes>"
      ]
     },
     "metadata": {
      "needs_background": "light"
     },
     "output_type": "display_data"
    }
   ],
   "source": [
    "shap.summary_plot(sharp_vals,feature_names = word_lookup,class_names =classes)"
   ]
  },
  {
   "cell_type": "code",
   "execution_count": null,
   "id": "8ee03296",
   "metadata": {},
   "outputs": [],
   "source": []
  }
 ],
 "metadata": {
  "kernelspec": {
   "display_name": "Python 3",
   "language": "python",
   "name": "python3"
  },
  "language_info": {
   "codemirror_mode": {
    "name": "ipython",
    "version": 3
   },
   "file_extension": ".py",
   "mimetype": "text/x-python",
   "name": "python",
   "nbconvert_exporter": "python",
   "pygments_lexer": "ipython3",
   "version": "3.8.5"
  }
 },
 "nbformat": 4,
 "nbformat_minor": 5
}
